{
 "cells": [
  {
   "cell_type": "code",
   "execution_count": 7,
   "id": "f1a2836c-0ac7-4fa9-bfea-eab56baf153a",
   "metadata": {},
   "outputs": [
    {
     "name": "stdout",
     "output_type": "stream",
     "text": [
      "You are tall enough to ride this roller coaster.\n"
     ]
    }
   ],
   "source": [
    "heightToRideAlone=150.0\n",
    "height=152.5\n",
    "if height >= heightToRideAlone:\n",
    "    print(\"You are tall enough to ride this roller coaster.\")\n",
    "else:\n",
    "    print(\"Sorry. You cannot ride this roller coaster.\")"
   ]
  },
  {
   "cell_type": "code",
   "execution_count": 9,
   "id": "ea3bc541-b63f-4ac1-adf8-1ed5645674d9",
   "metadata": {},
   "outputs": [
    {
     "name": "stdout",
     "output_type": "stream",
     "text": [
      "You can ride this roller coaster with an adult.\n"
     ]
    }
   ],
   "source": [
    "heightToRideAlone=150.0\n",
    "heightToRideWithAdult=140.0\n",
    "height=140.0\n",
    "if height >= heightToRideAlone:\n",
    "   print(\"You are tall enough to ride this roller coaster.\")\n",
    "elif height >= heightToRideWithAdult:\n",
    "    print(\"You can ride this roller coaster with an adult.\")\n",
    "else:\n",
    "    print(\"Sorry.You cannot ride this roller coaster.\")"
   ]
  },
  {
   "cell_type": "code",
   "execution_count": 11,
   "id": "425b8789-30ac-4e0f-b147-05c80cc8d93b",
   "metadata": {},
   "outputs": [
    {
     "name": "stdout",
     "output_type": "stream",
     "text": [
      "B\n"
     ]
    }
   ],
   "source": [
    "a=2\n",
    "b=330\n",
    "print(\"A\") if a > b else print (\"B\")"
   ]
  },
  {
   "cell_type": "code",
   "execution_count": 13,
   "id": "15eebdc1-28ed-4906-9904-75ea8252856f",
   "metadata": {},
   "outputs": [
    {
     "name": "stdin",
     "output_type": "stream",
     "text": [
      "Enter a number:  7\n"
     ]
    },
    {
     "name": "stdout",
     "output_type": "stream",
     "text": [
      "The number is positive.\n"
     ]
    }
   ],
   "source": [
    "# Number checker\n",
    "num=int(input(\"Enter a number: \"))\n",
    "if num > 0:\n",
    "    print(\"The number is positive.\")\n",
    "else:\n",
    "    if num < 0:\n",
    "        print(\"The number is negative.\")\n",
    "    else:\n",
    "        print(\"The number is zero.\")"
   ]
  },
  {
   "cell_type": "code",
   "execution_count": 15,
   "id": "9545a370-3d34-4da0-8f13-96b47e756ebc",
   "metadata": {},
   "outputs": [
    {
     "name": "stdin",
     "output_type": "stream",
     "text": [
      "Enter your age:  22\n"
     ]
    },
    {
     "name": "stdout",
     "output_type": "stream",
     "text": [
      "You are an adult.\n"
     ]
    }
   ],
   "source": [
    "# Age classifier\n",
    "age=int(input(\"Enter your age: \"))\n",
    "if age >= 60:\n",
    "    print(\"You are senior citizen.\")\n",
    "else:\n",
    "    if age >= 18:\n",
    "        print(\"You are an adult.\")\n",
    "    else:\n",
    "        print(\"You are a teenager.\")"
   ]
  },
  {
   "cell_type": "code",
   "execution_count": 19,
   "id": "bdd5fae9-b1d8-4926-9625-0b78d6e0de3d",
   "metadata": {},
   "outputs": [
    {
     "name": "stdin",
     "output_type": "stream",
     "text": [
      "Enter the number:  8\n"
     ]
    },
    {
     "name": "stdout",
     "output_type": "stream",
     "text": [
      "The number is positive and even.\n"
     ]
    }
   ],
   "source": [
    "# Odd Even\n",
    "num=int(input(\"Enter the number: \"))\n",
    "if num > 0:\n",
    "    if num % 2 == 0:\n",
    "        print(\"The number is positive and even.\")\n",
    "    else:\n",
    "        print(\"The number is positive but odd.\")\n",
    "else:\n",
    "    print(\"The number is not positive.\")"
   ]
  },
  {
   "cell_type": "code",
   "execution_count": null,
   "id": "84190fe4-23c5-4b9e-9550-1383290913e2",
   "metadata": {},
   "outputs": [],
   "source": [
    "# Username and password checking\n",
    "username=input(\"Enter your username: \")\n",
    "password=input(\"Enter your password: \")\n",
    "if username == \"admin\":\n",
    "    if password == \"password\":\n",
    "        print(\"Login successful! Welcome, admin.\")\n",
    "    elif password == \"12345\":\n",
    "        print(\"Weak password. Please reset your password.\")\n",
    "    else:\n",
    "        print(\"Incorrect password. Please try again.\")\n",
    "else:\n",
    "    if username == \"guest\":\n",
    "        if password == \"guest\":\n",
    "            print(\"Login successful! Welcome, guest.\")\n",
    "        else:\n",
    "            print(\"Incorrect password. Please try again.\")\n",
    "    else:\n",
    "        print(\"Unknown user. Please try again.\")"
   ]
  },
  {
   "cell_type": "code",
   "execution_count": null,
   "id": "dedd7286-a252-45bb-94da-59f707c8978e",
   "metadata": {},
   "outputs": [],
   "source": [
    "name = input(\"Enter your name: \")\n",
    "email = input(\"Enter your email address: \")\n",
    "password = input(\"Enter your password: \")\n",
    "\n",
    "if \"@\" not in email:\n",
    "    print(\"Invaild email address.\")\n",
    "else:\n",
    "    if name == \"\":\n",
    "        print(\"Name cannot be empty.\")\n",
    "    else:\n",
    "        if len(password) > 8:\n",
    "            print(\"Password must be at least 8 characters long.\")\n",
    "        else:\n",
    "            print(\"Registration successful.\")"
   ]
  },
  {
   "cell_type": "code",
   "execution_count": null,
   "id": "8a8258bc-4dda-4f0e-83c3-7ffcc9d90adc",
   "metadata": {},
   "outputs": [],
   "source": [
    "heroName = \"Superman\"\n",
    "name = (input(\"Enter your name: \"))\n",
    "\n",
    "lenofname = len(name)\n",
    "lenofhero = len(heroName)\n",
    "\n",
    "if lenofname > lenofhero:\n",
    "    print(\"You are stronger than Superman\")\n",
    "else:\n",
    "    print(\"You are weaker than an ant\")"
   ]
  },
  {
   "cell_type": "code",
   "execution_count": 1,
   "id": "4928b5b5-c70d-4cd7-baf0-79b9496440e9",
   "metadata": {},
   "outputs": [
    {
     "name": "stdin",
     "output_type": "stream",
     "text": [
      "Enter first number:  32\n",
      "Enter second number:  50\n",
      "Enter third number:  94\n"
     ]
    },
    {
     "name": "stdout",
     "output_type": "stream",
     "text": [
      "The mid value is 50\n"
     ]
    }
   ],
   "source": [
    "numX = (int(input(\"Enter first number: \")))\n",
    "numY = (int(input(\"Enter second number: \")))\n",
    "numZ = (int(input(\"Enter third number: \")))\n",
    "\n",
    "if numX<numY<numZ or numZ<numY<numX:\n",
    "    print(f\"The mid value is {numY}\")\n",
    "elif numY<numX<numZ or numZ<numX<numY:\n",
    "    print(f\"The mid value is {numX}\")\n",
    "else:\n",
    "    print(f\"The mid value is {numZ}\")"
   ]
  },
  {
   "cell_type": "code",
   "execution_count": 3,
   "id": "8b4c778e-5d5e-4097-a49d-ff17020b463b",
   "metadata": {},
   "outputs": [
    {
     "name": "stdin",
     "output_type": "stream",
     "text": [
      "Enter the 3-digits number:  324\n"
     ]
    },
    {
     "name": "stdout",
     "output_type": "stream",
     "text": [
      "The number you entered starts with either 1, 3, 5, 7, or 9.\n"
     ]
    }
   ],
   "source": [
    "number = int(input(\"Enter the 3-digits number: \"))\n",
    "digit = number // 100\n",
    "\n",
    "if  100 <= number <=999:\n",
    "    if digit % 2 != 0:\n",
    "        print(\"The number you entered starts with either 1, 3, 5, 7, or 9.\")\n",
    "    else:\n",
    "        print(\"The left-most digit is an even number.\")\n",
    "else:\n",
    "    print(\"Wrong input!!!\")"
   ]
  },
  {
   "cell_type": "code",
   "execution_count": null,
   "id": "a76939f7-90f3-4ca8-a156-437c3c9089df",
   "metadata": {},
   "outputs": [],
   "source": [
    "num = input(\"Enter the 3-digit number: \")\n",
    "if len(num) !=3:\n",
    "    print(\"Wrong input!\")\n",
    "else:\n",
    "    num = int(num)\n",
    "    first = num//100\n",
    "    second = (num//10)%10\n",
    "    third = num%10\n",
    "    sum = first + second + third\n",
    "    if sum % 2 == 0:\n",
    "        print(\"Sum of all the digits is an even number.\")\n",
    "    else:\n",
    "        print(\"Sum of all the digits is an odd number.\")"
   ]
  },
  {
   "cell_type": "code",
   "execution_count": null,
   "id": "c5db09ba-2459-45d7-b4d9-9694a9093b69",
   "metadata": {},
   "outputs": [],
   "source": [
    "height = int(input(\"Enter your height: \"))\n",
    "if height < 80:\n",
    "    print(f\"Your height is {height}cm and you are too short for the ride.\")\n",
    "elif 80 <= height <= 180:\n",
    "    print(\"Your height is ok.\")\n",
    "else:\n",
    "    print(f\"Your height is {height} and too tall for this ride.\")"
   ]
  },
  {
   "cell_type": "code",
   "execution_count": null,
   "id": "37fec439-edb0-4e0e-a32b-bccfd0ecf022",
   "metadata": {},
   "outputs": [],
   "source": [
    "unit = int(input(\"Enter the units used: \"))\n",
    "bill = 0\n",
    "if unit <= 100:\n",
    "    bill = 0\n",
    "elif unit <= 300:\n",
    "    bill = (unit-100) * 3\n",
    "else:\n",
    "    bill = (200*3) + ((unit-300)*4)\n",
    "    print(f\"The total bill is {bill} THB.\")"
   ]
  },
  {
   "cell_type": "code",
   "execution_count": null,
   "id": "065c9c54-09e2-4926-a8f4-9a7ec05c894c",
   "metadata": {},
   "outputs": [],
   "source": [
    "day = int(input(\"Input birthday:\"))\n",
    "month = input(\"Input month of birth (eg.march, july, etc: \")\n",
    "if month == \"December\":\n",
    "    sign = \"Sagittarius\" if day < 22 else \"Capricon\"\n",
    "elif month == \"Jaunary\":\n",
    "    sign = \"Capricorn\" if day < 20 else \"Aquariaus\"\n",
    "elif month == \"February\":\n",
    "    sign = \"Aquariaus\" if day < 19 else \"Pisces\"\n",
    "elif month == \"March\":\n",
    "    sign = \"Pisces\" if day < 21 else \"Aries\"\n",
    "elif month == \"April\":\n",
    "    sign = \"Aries\" if day < 20 else \"Taurus\"\n",
    "elif month == \"May\":\n",
    "    sign = \"Taurus\" if day < 21 else \"Gamini\"\n",
    "elif month == \"June\":\n",
    "    sign = \"Gemini\" if day < 21 else \"Cancer\"\n",
    "elif month == \"July\":\n",
    "    sign = \"Cancer\" if day < 23 else \"Leo\"\n",
    "elif month == \"August\":\n",
    "    sign = \"Leo\" if day < 23 else \"Virgo\"\n",
    "elif month == \"September\":\n",
    "    sign = \"Virgo\" if day < 23 else \"Libra\"\n",
    "elif month == \"October\":\n",
    "    sign = \"Libra\" if day < 23 else \"Scorpio\"\n",
    "elif month == \"November\":\n",
    "    sign = \"Scorpio\" if day < 22 else \"Sapittarius\"\n",
    "print(f\"Your astrological sign is {sign}.\")"
   ]
  },
  {
   "cell_type": "code",
   "execution_count": null,
   "id": "665cfd54-19ed-46d7-9122-d17bb7768d8e",
   "metadata": {},
   "outputs": [],
   "source": [
    "print(\"*\"*40)\n",
    "print(\"** Welcome to Grade Caculator **\")\n",
    "print(\"*\"*40)\n",
    "fullname = input(\"Enter your full name: \")\n",
    "studentID = input(\"Enter your student ID: \")\n",
    "print(\"*\"*40)\n",
    "courseID1 = input(\"Enter your course ID: \")\n",
    "score1 = float(input(\"Enter your score: \"))\n",
    "print(\"*\"*40)\n",
    "courseID2 = input(\"Enter your course ID: \")\n",
    "score2 = float(input(\"Enter your score: \"))\n",
    "print(\"*\"*40)\n",
    "if 100 > score1 >= 70:\n",
    "    x = \"A\"\n",
    "elif 60 <= score1 < 70:\n",
    "    x = \"B\"\n",
    "elif 50 <= score1 < 60:\n",
    "    x = \"C\"\n",
    "elif 40 <= score1 < 50:\n",
    "    x = \"D\"\n",
    "else:\n",
    "    print(\"F\")\n",
    "if 100 > score2 >= 70:\n",
    "    y = \"A\"\n",
    "elif 60 <= score2 < 70:\n",
    "    y = \"B\"\n",
    "elif 50 <= score2 < 60:\n",
    "    y = \"C\"\n",
    "elif 40 <= score2 < 50:\n",
    "    y = \"D\"\n",
    "else:\n",
    "    print(\"F\")\n",
    "print(\"-\"*40)\n",
    "print(\"| Full name\\t\\t| Student ID\\t|\")\n",
    "print(f\"| {fullname} \\t\\t| {studentID}\\t|\")\n",
    "print(\"-\"*40)\n",
    "print(\"-\"*40)\n",
    "print(\"| Course\\t| Score\\t| Grade\\t\\t|\")\n",
    "print(f\"| {courseID1}\\t| {score1}\\t| {x}\\t\\t|\")\n",
    "print(f\"| {courseID2}\\t| {score2}\\t| {y}\\t\\t|\")"
   ]
  },
  {
   "cell_type": "code",
   "execution_count": null,
   "id": "7ac6b336-6b03-4b20-82f5-a87b207552f0",
   "metadata": {},
   "outputs": [],
   "source": [
    "#Sample Run #1\n",
    "print(\"*\"*35)\n",
    "print(\"Welcome to HealthLand Services.\")\n",
    "\n",
    "weight = float(input(\"Enter your weight (kg): \"))\n",
    "height = float(input(\"Enter your height (m): \"))\n",
    "print(\"*\"*35)\n",
    "print(\"* * * * Available Services * * * *\")\n",
    "print(\"\")\n",
    "print(\"* a) Caculate BMI\\t\\t  *\")\n",
    "print(\"* b) Height conversion (m to cm)  *\")\n",
    "print(\"* c) Weight conversion (kg to lb) *\")\n",
    "print(\"*\"*35)\n",
    "x = input(\"Choose your service a), b) or c): \")\n",
    "if x == \"a\":\n",
    "    i = weight / height ** 2\n",
    "    print(f\"Your BMI is {i}.\")\n",
    "elif x == \"b\":\n",
    "    m = height * 100\n",
    "    print(f\"Your height in cm is {m}cm.\")\n",
    "elif x == \"c\":\n",
    "    l = weight * 2.205\n",
    "    print(f\"Your weight in Pounds is {l}Lbs.\")\n",
    "else:\n",
    "    print(\"Invalid Information.\")\n",
    "print(\"*\"*35)\n",
    "print(\"Thank you for using our service.\")"
   ]
  }
 ],
 "metadata": {
  "kernelspec": {
   "display_name": "Python 3 (ipykernel)",
   "language": "python",
   "name": "python3"
  },
  "language_info": {
   "codemirror_mode": {
    "name": "ipython",
    "version": 3
   },
   "file_extension": ".py",
   "mimetype": "text/x-python",
   "name": "python",
   "nbconvert_exporter": "python",
   "pygments_lexer": "ipython3",
   "version": "3.12.7"
  }
 },
 "nbformat": 4,
 "nbformat_minor": 5
}
